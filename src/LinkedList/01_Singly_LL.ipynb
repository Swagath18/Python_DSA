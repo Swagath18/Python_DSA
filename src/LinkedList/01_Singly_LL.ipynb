{
  "nbformat": 4,
  "nbformat_minor": 0,
  "metadata": {
    "colab": {
      "provenance": []
    },
    "kernelspec": {
      "name": "python3",
      "display_name": "Python 3"
    },
    "language_info": {
      "name": "python"
    }
  },
  "cells": [
    {
      "cell_type": "markdown",
      "source": [
        "\n",
        "Linked List\n",
        "\n",
        "*   Initially we will have a node with \"john\" as data and \"None\" as pointer.\n",
        "*   To add this node to linked list we need to first check if the head is empty and then add this node with [\"john\", None] as head node.\n",
        "*   To add new node with data \"ben\" now the head node is not empty which is john and the pointer next is None so here we establish a connection to this john's next with new node ben.\n",
        "*  To add anothe rnode with \"mathew\" as data, first it will check if head node is emapty then it will follow the connection to ben and then it will check if the next is empty in ben, yes it is then mathew will be linked to ben's next.\n",
        "\n",
        "\n",
        "\n"
      ],
      "metadata": {
        "id": "aX_WN7WppJF5"
      }
    },
    {
      "cell_type": "code",
      "source": [
        "#create node\n",
        "#create linked list\n",
        "#Add nodes to linked list\n",
        "# print linked list"
      ],
      "metadata": {
        "id": "kKtoisc3o59m"
      },
      "execution_count": null,
      "outputs": []
    },
    {
      "cell_type": "markdown",
      "source": [
        "Creating Node"
      ],
      "metadata": {
        "id": "aOlobq1itNgV"
      }
    },
    {
      "cell_type": "code",
      "source": [
        "class Node: #1\n",
        "  #pass #2\n",
        "  def __init__(self, data):#6\n",
        "    self.data = data #7\n",
        "    self.next = None #7\n"
      ],
      "metadata": {
        "id": "6lROF3fQAH1r"
      },
      "execution_count": null,
      "outputs": []
    },
    {
      "cell_type": "markdown",
      "source": [
        "Creating LinkedList"
      ],
      "metadata": {
        "id": "tqLiQ2-7tQN9"
      }
    },
    {
      "cell_type": "code",
      "source": [
        "class LinkedList: #3\n",
        "  #pass #4\n",
        "  '''To create empty node'''\n",
        "  def __init__(self): #7\n",
        "    self.head = None #8\n",
        "\n",
        "  '''To insert nodes'''\n",
        "  def insert(self, newNode): #10 this will take new node to be inserted\n",
        "    #we need to check if the head node is empty of no | head = john->None\n",
        "    if self.head is None: #11\n",
        "      self.head = newNode #12\n",
        "\n",
        "    else:\n",
        "      lastNode = self.head # treating the node as lastnode and check for next\n",
        "      while True:         #traversing through the list\n",
        "        if lastNode.next is None: #john->none, so we break the link\n",
        "          break\n",
        "        lastNode = lastNode.next #john.next is ben and assigning ben as lastnode\n",
        "      lastNode.next = newNode    #ben.next is liked to mathew\n",
        "\n",
        "  '''To print the linkedlist'''\n",
        "  def printList(self):\n",
        "    #head=>john->ben->mathew->None\n",
        "    currentNode = self.head\n",
        "    while True:\n",
        "      if currentNode is None:\n",
        "        break\n",
        "      print(currentNode.data)\n",
        "      currentNode = currentNode.next\n",
        "\n",
        "\n"
      ],
      "metadata": {
        "id": "KYI_izUDrHba"
      },
      "execution_count": null,
      "outputs": []
    },
    {
      "cell_type": "markdown",
      "source": [
        "Process of connecting"
      ],
      "metadata": {
        "id": "_Hn8w1BatTO_"
      }
    },
    {
      "cell_type": "code",
      "source": [
        "#Node = data, next\n",
        "firstNode = Node(\"john\") #5 to capture this data we need a node with data feild and next field, so we use init in Node\n",
        "#now it will look like | firtsNode.data = \"john\", firstNode.next = None"
      ],
      "metadata": {
        "id": "nbJl-CpnrNba"
      },
      "execution_count": null,
      "outputs": []
    },
    {
      "cell_type": "markdown",
      "source": [
        "Lets add this node to linkedlist"
      ],
      "metadata": {
        "id": "LSyqk4f_slpu"
      }
    },
    {
      "cell_type": "code",
      "source": [
        "linkedList = LinkedList() #6 we need to create head , so wil use init  in LinkedList"
      ],
      "metadata": {
        "id": "4p84hw8sskLf"
      },
      "execution_count": null,
      "outputs": []
    },
    {
      "cell_type": "markdown",
      "source": [
        "Now we need to insert this node to the linkedlist, so we can create insert method in linkedList class"
      ],
      "metadata": {
        "id": "2NubXmuYtGVC"
      }
    },
    {
      "cell_type": "code",
      "source": [
        "linkedList.insert(firstNode) #9 creating insert method in LinkedList class"
      ],
      "metadata": {
        "id": "LjELoAISsgsY"
      },
      "execution_count": null,
      "outputs": []
    },
    {
      "cell_type": "markdown",
      "source": [
        "Lets add new node with data as \"ben\" and next as None"
      ],
      "metadata": {
        "id": "7GT7daqeuTcp"
      }
    },
    {
      "cell_type": "code",
      "source": [
        "secondNode = Node(\"ben\") #13\n",
        "linkedList.insert(secondNode) #14 , now we need to add it to the linkedlist to the previos node\n",
        "\n",
        "#always last node's next will be none, so we need to break the connection from last node and establist connection with  new node\n",
        "# so we need to traverse the list from head to last"
      ],
      "metadata": {
        "id": "JM4BCsGguboi"
      },
      "execution_count": null,
      "outputs": []
    },
    {
      "cell_type": "code",
      "source": [
        "thirdNode = Node(\"Mathew\")\n",
        "linkedList.insert(thirdNode)"
      ],
      "metadata": {
        "id": "nNscqMD4yUKk"
      },
      "execution_count": null,
      "outputs": []
    },
    {
      "cell_type": "code",
      "source": [
        "linkedList.printList()"
      ],
      "metadata": {
        "colab": {
          "base_uri": "https://localhost:8080/"
        },
        "id": "UqCEt3rE2RzK",
        "outputId": "fc03b19a-6c5a-4201-b1d0-27e0725bb435"
      },
      "execution_count": null,
      "outputs": [
        {
          "output_type": "stream",
          "name": "stdout",
          "text": [
            "john\n",
            "ben\n",
            "Mathew\n"
          ]
        }
      ]
    }
  ]
}